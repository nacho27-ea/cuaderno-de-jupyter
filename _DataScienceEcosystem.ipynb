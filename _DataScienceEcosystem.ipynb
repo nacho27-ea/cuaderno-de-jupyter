{
 "cells": [
  {
   "cell_type": "markdown",
   "id": "10b561ef-6812-425f-8917-f8ec2eb801c9",
   "metadata": {},
   "source": [
    "# Data Science Tools and Ecosystem"
   ]
  },
  {
   "cell_type": "markdown",
   "id": "77c60190-7ad5-4ae7-b781-456d591a4e2c",
   "metadata": {},
   "source": [
    "En este cuaderno, se resumen las herramientas y ecosistemas de ciencia de datos."
   ]
  },
  {
   "cell_type": "markdown",
   "id": "73d8500f-673e-41ff-821d-ecb26bcd172a",
   "metadata": {},
   "source": [
    "Algunos de los lenguajes populares que utilizan los científicos de datos son:\n",
    "- 1-Python\n",
    "- 2-Julia\n",
    "- 3-R\n",
    "- 4-SQL"
   ]
  },
  {
   "cell_type": "markdown",
   "id": "337adcc6-63c9-4eaa-b102-5a789805fcf2",
   "metadata": {},
   "source": [
    "Algunas de las bibliotecas comúnmente utilizadas por los científicos de datos incluyen:\n",
    "- 1-Pandas\n",
    "- 2-Numpy\n",
    "- 3-Seaborn\n",
    "- 4-Matplotlib"
   ]
  },
  {
   "cell_type": "markdown",
   "id": "9ce73272-90ba-499a-98e6-28c8bc14489b",
   "metadata": {},
   "source": [
    "| Herramientas de Ciencia de Datos       |\n",
    "|----------------------------------------|\n",
    "| Jupyter Notebook                       |\n",
    "| RStudio                                |\n",
    "| Visual Studio Code (VS Code)           |\n"
   ]
  },
  {
   "cell_type": "markdown",
   "id": "abd21099-4f99-4dc0-bfdc-ecd673a4feb9",
   "metadata": {},
   "source": [
    "### A continuación, se presentan algunos ejemplos de evaluación de expresiones aritméticas en Python.\n",
    "\n",
    "- `3 + 5` → Suma de dos números.\n",
    "- `10 - 4` → Resta de dos números.\n",
    "- `6 * 7` → Multiplicación.\n",
    "- `20 / 4` → División que devuelve un flotante.\n",
    "- `10 // 3` → División entera.\n",
    "- `2 ** 3` → Exponenciación.\n",
    "- `15 % 4` → Módulo (residuo de la división).\n"
   ]
  },
  {
   "cell_type": "code",
   "execution_count": 7,
   "id": "489d9b4d-2278-43cd-9ad2-dbaccd16186b",
   "metadata": {},
   "outputs": [
    {
     "data": {
      "text/plain": [
       "17"
      ]
     },
     "execution_count": 7,
     "metadata": {},
     "output_type": "execute_result"
    }
   ],
   "source": [
    "# Esta es una expresión aritmética simple para multiplicar y luego sumar enteros\n",
    "(3 * 4) + 5\n"
   ]
  },
  {
   "cell_type": "code",
   "execution_count": 8,
   "id": "9900d1c5-5b63-491a-98e5-8b8dde8fc882",
   "metadata": {},
   "outputs": [
    {
     "data": {
      "text/plain": [
       "3.3333333333333335"
      ]
     },
     "execution_count": 8,
     "metadata": {},
     "output_type": "execute_result"
    }
   ],
   "source": [
    "# Esto convertirá 200 minutos a horas dividiendo por 60.\n",
    "200 / 60\n"
   ]
  },
  {
   "cell_type": "markdown",
   "id": "41291501-b8e0-43df-977b-af6b5956e9ef",
   "metadata": {},
   "source": [
    "**Objetivos:**\n",
    "\n",
    "- Listar lenguajes populares para Ciencia de Datos  \n",
    "- Identificar bibliotecas comunes utilizadas en proyectos de ciencia de datos  \n",
    "- Reconocer herramientas de desarrollo de código abierto utilizadas por científicos de datos  \n",
    "- Escribir y ejecutar expresiones aritméticas simples en Python  \n",
    "- Convertir unidades básicas, como minutos a horas, usando Python\n"
   ]
  },
  {
   "cell_type": "code",
   "execution_count": null,
   "id": "dd1cd30a-43a4-4c45-9c2e-b1b9b89b5854",
   "metadata": {},
   "outputs": [],
   "source": []
  },
  {
   "cell_type": "code",
   "execution_count": null,
   "id": "f80716be-d9c6-48ec-9a6e-6fbb589d49e1",
   "metadata": {},
   "outputs": [],
   "source": []
  }
 ],
 "metadata": {
  "kernelspec": {
   "display_name": "Python 3 (ipykernel)",
   "language": "python",
   "name": "python3"
  },
  "language_info": {
   "codemirror_mode": {
    "name": "ipython",
    "version": 3
   },
   "file_extension": ".py",
   "mimetype": "text/x-python",
   "name": "python",
   "nbconvert_exporter": "python",
   "pygments_lexer": "ipython3",
   "version": "3.12.8"
  }
 },
 "nbformat": 4,
 "nbformat_minor": 5
}
